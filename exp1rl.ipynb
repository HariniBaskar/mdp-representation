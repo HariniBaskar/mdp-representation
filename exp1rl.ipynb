{
  "nbformat": 4,
  "nbformat_minor": 0,
  "metadata": {
    "colab": {
      "provenance": []
    },
    "kernelspec": {
      "name": "python3",
      "display_name": "Python 3"
    },
    "language_info": {
      "name": "python"
    }
  },
  "cells": [
    {
      "cell_type": "code",
      "execution_count": 1,
      "metadata": {
        "colab": {
          "base_uri": "https://localhost:8080/"
        },
        "id": "A9KNO__yjm-A",
        "outputId": "c9e99345-fefa-4364-e651-88cea1677849"
      },
      "outputs": [
        {
          "output_type": "execute_result",
          "data": {
            "text/plain": [
              "{0: {1: [(0.82, 1, 0, False), (0.18, 0, 0, False)],\n",
              "  2: [(0.88, 0, 0, False), (0.12, 1, 0, False)]},\n",
              " 1: {1: [(0.91, 2, 0, False), (0.09, 0, 0, False)],\n",
              "  2: [(0.75, 0, 0, False), (0.25, 2, 0, False)]},\n",
              " 2: {1: [(0.92, 3, 1, True), (0.08, 1, 0, False)],\n",
              "  2: [(0.91, 1, 0, False), (0.09, 3, 1, True)]},\n",
              " 3: {1: [(0.82, 3, 0, True), (0.18, 2, 0, False)],\n",
              "  2: [(0.73, 2, 0, False), (0.27, 3, 0, True)]}}"
            ]
          },
          "metadata": {},
          "execution_count": 1
        }
      ],
      "source": [
        "climbing = {\n",
        "    #starting point state(S) ->0\n",
        "    #Action: up-> 1, down-> 2\n",
        "  0:{\n",
        "     1:[(0.82 , 1 , 0,False),(0.18 , 0 , 0 , False)],\n",
        "     2:[(0.88 , 0 , 0,False),(0.12 , 1 , 0 , False)]\n",
        "  },\n",
        "    #relaxing point state(R) ->1\n",
        "  1:{\n",
        "     1:[(0.91 , 2 , 0,False),(0.09 , 0 , 0 , False)],\n",
        "     2:[(0.75 , 0 , 0,False),(0.25 , 2 , 0 , False)]\n",
        "  },\n",
        "    #View point state(G) ->2\n",
        "  2:{\n",
        "      1:[(0.92 , 3 , 1,True),(0.08 , 1 , 0 , False)],\n",
        "      2:[(0.91 , 1 , 0,False),(0.09 , 3 , 1 , True)]\n",
        "  },\n",
        "    #Dangerous point state(DD) ->3\n",
        "  3:{\n",
        "      1:[(0.82, 3 , 0, True),(0.18 , 2 , 0 , False)],\n",
        "      2:[(0.73, 2 , 0, False),(0.27 , 3 , 0 , True)]\n",
        "  }\n",
        "}\n",
        "climbing"
      ]
    }
  ]
}